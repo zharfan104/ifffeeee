{
 "cells": [
  {
   "cell_type": "code",
   "execution_count": 1,
   "metadata": {},
   "outputs": [],
   "source": [
    "from pandas.io.json import json_normalize\n",
    "with open('ids.json') as f:\n",
    "  ids = json.load(f)\n",
    "ids['features'][27]['properties']['state'] = \"DKI JAKARTA\"\n",
    "ids['features'][3]['properties']['state'] = \"DI YOGYAKARTA\"\n",
    "\n",
    "for i in range(len(ids['features'])):\n",
    "    ids['features'][i]['properties']['state'] = ids['features'][i]['properties']['state'].upper()\n",
    "    print((ids['features'][i]['properties']['state']))\n"
   ]
  },
  {
   "cell_type": "code",
   "execution_count": 278,
   "metadata": {},
   "outputs": [],
   "source": [
    "import pandas as pd\n",
    "ips= pd.DataFrame()\n",
    "file_name = 'ips{}prov.xlsx'\n",
    "for i in range (15,20):\n",
    "    df_list = (pd.read_excel(file_name.format(i)).dropna())\n",
    "    df_list[\"Tahun\"] = (\"20{}\".format(i))\n",
    "    ips = ips.append(df_list)\n",
    "ips = ips.set_index(\"CAPAIAN NILAI UJIAN NASIONAL\")\n",
    "ips.columns = [ \"KODE\",\"NAMA PROVINSI\",\"JUMLAH SATUAN PENDIDIKAN\",\"JUMLAH PESERTA\",\n",
    "\"BAHASA INDONESIA\",\"BAHASA INGGRIS\",\"MATEMATIKA\",\"EKONOMI\",\"SOSIOLOGI\",\"GEOGRAFI\",\"RERATA NILAI\", \"Tahun\"]"
   ]
  },
  {
   "cell_type": "code",
   "execution_count": 204,
   "metadata": {},
   "outputs": [],
   "source": [
    "import pandas as pd\n",
    "ipa= pd.DataFrame()\n",
    "file_name = 'ipa{}prov.xlsx'\n",
    "for i in range (15,20):\n",
    "    df_list = (pd.read_excel(file_name.format(i)).dropna())\n",
    "    df_list[\"Tahun\"] = (\"20{}\".format(i))\n",
    "    ipa = ipa.append(df_list)\n",
    "ipa = ipa.set_index(\"CAPAIAN NILAI UJIAN NASIONAL\")\n",
    "ipa.columns = [ \"KODE\",\"NAMA PROVINSI\",\"JUMLAH SATUAN PENDIDIKAN\",\"JUMLAH PESERTA\",\n",
    "\"BAHASA INDONESIA\",\"BAHASA INGGRIS\",\"MATEMATIKA\",\"FISIKA\",\"KIMIA\",\"BIOLOGI\",\"RERATA NILAI\", \"Tahun\"]"
   ]
  },
  {
   "cell_type": "code",
   "execution_count": 295,
   "metadata": {},
   "outputs": [],
   "source": [
    "import pandas as pd\n",
    "SMK= pd.DataFrame()\n",
    "file_name = 'smk{}prov.xlsx'\n",
    "for i in range (15,20):\n",
    "    df_list = (pd.read_excel(file_name.format(i)).dropna())\n",
    "    df_list[\"Tahun\"] = (\"20{}\".format(i))\n",
    "    SMK = SMK.append(df_list)\n",
    "\n",
    "SMK = SMK.set_index(\"CAPAIAN NILAI UJIAN NASIONAL\")\n",
    "SMK.columns = [ \"KODE\",\"NAMA PROVINSI\",\"JUMLAH SATUAN PENDIDIKAN\",\"JUMLAH PESERTA\",\n",
    "\"BAHASA INDONESIA\",\"BAHASA INGGRIS\",\"MATEMATIKA\",\"KOMPETENSI\",\"RERATA NILAI\", \"Tahun\"]"
   ]
  },
  {
   "cell_type": "code",
   "execution_count": 294,
   "metadata": {},
   "outputs": [],
   "source": [
    "for i in range(len(ids2['features'])):\n",
    "    for j in SMK[\"NAMA PROVINSI\"]:\n",
    "        if(ids2['features'][i]['properties']['state'] == j):\n",
    "            ids2['features'][i]['properties']['SMK15'] = SMK[((SMK.Tahun==\"2015\") & (SMK[\"NAMA PROVINSI\"] == j))][\"RERATA NILAI\"].values[0]\n",
    "            ids2['features'][i]['properties']['SMK16'] = SMK[((SMK.Tahun==\"2016\") & (SMK[\"NAMA PROVINSI\"] == j))][\"RERATA NILAI\"].values[0]\n",
    "            ids2['features'][i]['properties']['SMK17'] = SMK[((SMK.Tahun==\"2017\") & (SMK[\"NAMA PROVINSI\"] == j))][\"RERATA NILAI\"].values[0]\n",
    "            ids2['features'][i]['properties']['SMK18'] = SMK[((SMK.Tahun==\"2018\") & (SMK[\"NAMA PROVINSI\"] == j))][\"RERATA NILAI\"].values[0]\n",
    "            ids2['features'][i]['properties']['SMK19'] = SMK[((SMK.Tahun==\"2019\") & (SMK[\"NAMA PROVINSI\"] == j))][\"RERATA NILAI\"].values[0]\n",
    "            \n",
    "           \n",
    "            ids2['features'][i]['properties']['geo15'] = SMK[((SMK.Tahun==\"2015\") & (SMK[\"NAMA PROVINSI\"] == j))][\"KOMPETENSI\"].values[0]\n",
    "            ids2['features'][i]['properties']['geo16'] = SMK[((SMK.Tahun==\"2016\") & (SMK[\"NAMA PROVINSI\"] == j))][\"KOMPETENSI\"].values[0]\n",
    "            ids2['features'][i]['properties']['geo17'] = SMK[((SMK.Tahun==\"2017\") & (SMK[\"NAMA PROVINSI\"] == j))][\"KOMPETENSI\"].values[0]\n",
    "            ids2['features'][i]['properties']['geo18'] = SMK[((SMK.Tahun==\"2018\") & (SMK[\"NAMA PROVINSI\"] == j))][\"KOMPETENSI\"].values[0]\n",
    "            ids2['features'][i]['properties']['geo19'] = SMK[((SMK.Tahun==\"2019\") & (SMK[\"NAMA PROVINSI\"] == j))][\"KOMPETENSI\"].values[0]\n",
    "            \n",
    "            ids2['features'][i]['properties']['matSMK15'] = SMK[((SMK.Tahun==\"2015\") & (SMK[\"NAMA PROVINSI\"] == j))][\"MATEMATIKA\"].values[0]\n",
    "            ids2['features'][i]['properties']['matSMK16'] = SMK[((SMK.Tahun==\"2016\") & (SMK[\"NAMA PROVINSI\"] == j))][\"MATEMATIKA\"].values[0]\n",
    "            ids2['features'][i]['properties']['matSMK17'] = SMK[((SMK.Tahun==\"2017\") & (SMK[\"NAMA PROVINSI\"] == j))][\"MATEMATIKA\"].values[0]\n",
    "            ids2['features'][i]['properties']['matSMK18'] = SMK[((SMK.Tahun==\"2018\") & (SMK[\"NAMA PROVINSI\"] == j))][\"MATEMATIKA\"].values[0]\n",
    "            ids2['features'][i]['properties']['matSMK19'] = SMK[((SMK.Tahun==\"2019\") & (SMK[\"NAMA PROVINSI\"] == j))][\"MATEMATIKA\"].values[0]\n",
    "            \n",
    "            ids2['features'][i]['properties']['ingSMK15'] = SMK[((SMK.Tahun==\"2015\") & (SMK[\"NAMA PROVINSI\"] == j))][\"BAHASA INGGRIS\"].values[0]\n",
    "            ids2['features'][i]['properties']['ingSMK16'] = SMK[((SMK.Tahun==\"2016\") & (SMK[\"NAMA PROVINSI\"] == j))][\"BAHASA INGGRIS\"].values[0]\n",
    "            ids2['features'][i]['properties']['ingSMK17'] = SMK[((SMK.Tahun==\"2017\") & (SMK[\"NAMA PROVINSI\"] == j))][\"BAHASA INGGRIS\"].values[0]\n",
    "            ids2['features'][i]['properties']['ingSMK18'] = SMK[((SMK.Tahun==\"2018\") & (SMK[\"NAMA PROVINSI\"] == j))][\"BAHASA INGGRIS\"].values[0]\n",
    "            ids2['features'][i]['properties']['ingSMK19'] = SMK[((SMK.Tahun==\"2019\") & (SMK[\"NAMA PROVINSI\"] == j))][\"BAHASA INGGRIS\"].values[0]\n",
    "            \n",
    "            ids2['features'][i]['properties']['indoSMK15'] = SMK[((SMK.Tahun==\"2015\") & (SMK[\"NAMA PROVINSI\"] == j))][\"BAHASA INDONESIA\"].values[0]\n",
    "            ids2['features'][i]['properties']['indoSMK16'] = SMK[((SMK.Tahun==\"2016\") & (SMK[\"NAMA PROVINSI\"] == j))][\"BAHASA INDONESIA\"].values[0]\n",
    "            ids2['features'][i]['properties']['indoSMK17'] = SMK[((SMK.Tahun==\"2017\") & (SMK[\"NAMA PROVINSI\"] == j))][\"BAHASA INDONESIA\"].values[0]\n",
    "            ids2['features'][i]['properties']['indoSMK18'] = SMK[((SMK.Tahun==\"2018\") & (SMK[\"NAMA PROVINSI\"] == j))][\"BAHASA INDONESIA\"].values[0]\n",
    "            ids2['features'][i]['properties']['indoSMK19'] = SMK[((SMK.Tahun==\"2019\") & (SMK[\"NAMA PROVINSI\"] == j))][\"BAHASA INDONESIA\"].values[0]\n",
    "            \n",
    "            ids2['features'][i]['properties']['jumSMK15'] = SMK[((SMK.Tahun==\"2015\") & (SMK[\"NAMA PROVINSI\"] == j))][\"JUMLAH PESERTA\"].values[0]\n",
    "            ids2['features'][i]['properties']['jumSMK16'] = SMK[((SMK.Tahun==\"2016\") & (SMK[\"NAMA PROVINSI\"] == j))][\"JUMLAH PESERTA\"].values[0]\n",
    "            ids2['features'][i]['properties']['jumSMK17'] = SMK[((SMK.Tahun==\"2017\") & (SMK[\"NAMA PROVINSI\"] == j))][\"JUMLAH PESERTA\"].values[0]\n",
    "            ids2['features'][i]['properties']['jumSMK18'] = SMK[((SMK.Tahun==\"2018\") & (SMK[\"NAMA PROVINSI\"] == j))][\"JUMLAH PESERTA\"].values[0]\n",
    "            ids2['features'][i]['properties']['jumSMK19'] = SMK[((SMK.Tahun==\"2019\") & (SMK[\"NAMA PROVINSI\"] == j))][\"JUMLAH PESERTA\"].values[0]\n",
    "            \n",
    "            ids2['features'][i]['properties']['jspSMK15'] = SMK[((SMK.Tahun==\"2015\") & (SMK[\"NAMA PROVINSI\"] == j))][\"JUMLAH SATUAN PENDIDIKAN\"].values[0]\n",
    "            ids2['features'][i]['properties']['jspSMK16'] = SMK[((SMK.Tahun==\"2016\") & (SMK[\"NAMA PROVINSI\"] == j))][\"JUMLAH SATUAN PENDIDIKAN\"].values[0]\n",
    "            ids2['features'][i]['properties']['jspSMK17'] = SMK[((SMK.Tahun==\"2017\") & (SMK[\"NAMA PROVINSI\"] == j))][\"JUMLAH SATUAN PENDIDIKAN\"].values[0]\n",
    "            ids2['features'][i]['properties']['jspSMK18'] = SMK[((SMK.Tahun==\"2018\") & (SMK[\"NAMA PROVINSI\"] == j))][\"JUMLAH SATUAN PENDIDIKAN\"].values[0]\n",
    "            ids2['features'][i]['properties']['jspSMK19'] = SMK[((SMK.Tahun==\"2019\") & (SMK[\"NAMA PROVINSI\"] == j))][\"JUMLAH SATUAN PENDIDIKAN\"].values[0]\n",
    "            "
   ]
  },
  {
   "cell_type": "code",
   "execution_count": 281,
   "metadata": {},
   "outputs": [],
   "source": [
    "for i in range(len(ids2['features'])):\n",
    "    for j in ips[\"NAMA PROVINSI\"]:\n",
    "        if(ids2['features'][i]['properties']['state'] == j):\n",
    "            ids2['features'][i]['properties']['ips15'] = ips[((ips.Tahun==\"2015\") & (ips[\"NAMA PROVINSI\"] == j))][\"RERATA NILAI\"].values[0]\n",
    "            ids2['features'][i]['properties']['ips16'] = ips[((ips.Tahun==\"2016\") & (ips[\"NAMA PROVINSI\"] == j))][\"RERATA NILAI\"].values[0]\n",
    "            ids2['features'][i]['properties']['ips17'] = ips[((ips.Tahun==\"2017\") & (ips[\"NAMA PROVINSI\"] == j))][\"RERATA NILAI\"].values[0]\n",
    "            ids2['features'][i]['properties']['ips18'] = ips[((ips.Tahun==\"2018\") & (ips[\"NAMA PROVINSI\"] == j))][\"RERATA NILAI\"].values[0]\n",
    "            ids2['features'][i]['properties']['ips19'] = ips[((ips.Tahun==\"2019\") & (ips[\"NAMA PROVINSI\"] == j))][\"RERATA NILAI\"].values[0]\n",
    "            \n",
    "            ids2['features'][i]['properties']['eko15'] = ips[((ips.Tahun==\"2015\") & (ips[\"NAMA PROVINSI\"] == j))][\"EKONOMI\"].values[0]\n",
    "            ids2['features'][i]['properties']['eko16'] = ips[((ips.Tahun==\"2016\") & (ips[\"NAMA PROVINSI\"] == j))][\"EKONOMI\"].values[0]\n",
    "            ids2['features'][i]['properties']['eko17'] = ips[((ips.Tahun==\"2017\") & (ips[\"NAMA PROVINSI\"] == j))][\"EKONOMI\"].values[0]\n",
    "            ids2['features'][i]['properties']['eko18'] = ips[((ips.Tahun==\"2018\") & (ips[\"NAMA PROVINSI\"] == j))][\"EKONOMI\"].values[0]\n",
    "            ids2['features'][i]['properties']['eko19'] = ips[((ips.Tahun==\"2019\") & (ips[\"NAMA PROVINSI\"] == j))][\"EKONOMI\"].values[0]\n",
    "            \n",
    "            ids2['features'][i]['properties']['sosio15'] = ips[((ips.Tahun==\"2015\") & (ips[\"NAMA PROVINSI\"] == j))][\"SOSIOLOGI\"].values[0]\n",
    "            ids2['features'][i]['properties']['sosio16'] = ips[((ips.Tahun==\"2016\") & (ips[\"NAMA PROVINSI\"] == j))][\"SOSIOLOGI\"].values[0]\n",
    "            ids2['features'][i]['properties']['sosio17'] = ips[((ips.Tahun==\"2017\") & (ips[\"NAMA PROVINSI\"] == j))][\"SOSIOLOGI\"].values[0]\n",
    "            ids2['features'][i]['properties']['sosio18'] = ips[((ips.Tahun==\"2018\") & (ips[\"NAMA PROVINSI\"] == j))][\"SOSIOLOGI\"].values[0]\n",
    "            ids2['features'][i]['properties']['sosio19'] = ips[((ips.Tahun==\"2019\") & (ips[\"NAMA PROVINSI\"] == j))][\"SOSIOLOGI\"].values[0]\n",
    "            \n",
    "            ids2['features'][i]['properties']['geo15'] = ips[((ips.Tahun==\"2015\") & (ips[\"NAMA PROVINSI\"] == j))][\"GEOGRAFI\"].values[0]\n",
    "            ids2['features'][i]['properties']['geo16'] = ips[((ips.Tahun==\"2016\") & (ips[\"NAMA PROVINSI\"] == j))][\"GEOGRAFI\"].values[0]\n",
    "            ids2['features'][i]['properties']['geo17'] = ips[((ips.Tahun==\"2017\") & (ips[\"NAMA PROVINSI\"] == j))][\"GEOGRAFI\"].values[0]\n",
    "            ids2['features'][i]['properties']['geo18'] = ips[((ips.Tahun==\"2018\") & (ips[\"NAMA PROVINSI\"] == j))][\"GEOGRAFI\"].values[0]\n",
    "            ids2['features'][i]['properties']['geo19'] = ips[((ips.Tahun==\"2019\") & (ips[\"NAMA PROVINSI\"] == j))][\"GEOGRAFI\"].values[0]\n",
    "            \n",
    "            ids2['features'][i]['properties']['matips15'] = ips[((ips.Tahun==\"2015\") & (ips[\"NAMA PROVINSI\"] == j))][\"MATEMATIKA\"].values[0]\n",
    "            ids2['features'][i]['properties']['matips16'] = ips[((ips.Tahun==\"2016\") & (ips[\"NAMA PROVINSI\"] == j))][\"MATEMATIKA\"].values[0]\n",
    "            ids2['features'][i]['properties']['matips17'] = ips[((ips.Tahun==\"2017\") & (ips[\"NAMA PROVINSI\"] == j))][\"MATEMATIKA\"].values[0]\n",
    "            ids2['features'][i]['properties']['matips18'] = ips[((ips.Tahun==\"2018\") & (ips[\"NAMA PROVINSI\"] == j))][\"MATEMATIKA\"].values[0]\n",
    "            ids2['features'][i]['properties']['matips19'] = ips[((ips.Tahun==\"2019\") & (ips[\"NAMA PROVINSI\"] == j))][\"MATEMATIKA\"].values[0]\n",
    "            \n",
    "            ids2['features'][i]['properties']['ingips15'] = ips[((ips.Tahun==\"2015\") & (ips[\"NAMA PROVINSI\"] == j))][\"BAHASA INGGRIS\"].values[0]\n",
    "            ids2['features'][i]['properties']['ingips16'] = ips[((ips.Tahun==\"2016\") & (ips[\"NAMA PROVINSI\"] == j))][\"BAHASA INGGRIS\"].values[0]\n",
    "            ids2['features'][i]['properties']['ingips17'] = ips[((ips.Tahun==\"2017\") & (ips[\"NAMA PROVINSI\"] == j))][\"BAHASA INGGRIS\"].values[0]\n",
    "            ids2['features'][i]['properties']['ingips18'] = ips[((ips.Tahun==\"2018\") & (ips[\"NAMA PROVINSI\"] == j))][\"BAHASA INGGRIS\"].values[0]\n",
    "            ids2['features'][i]['properties']['ingips19'] = ips[((ips.Tahun==\"2019\") & (ips[\"NAMA PROVINSI\"] == j))][\"BAHASA INGGRIS\"].values[0]\n",
    "            \n",
    "            ids2['features'][i]['properties']['indoips15'] = ips[((ips.Tahun==\"2015\") & (ips[\"NAMA PROVINSI\"] == j))][\"BAHASA INDONESIA\"].values[0]\n",
    "            ids2['features'][i]['properties']['indoips16'] = ips[((ips.Tahun==\"2016\") & (ips[\"NAMA PROVINSI\"] == j))][\"BAHASA INDONESIA\"].values[0]\n",
    "            ids2['features'][i]['properties']['indoips17'] = ips[((ips.Tahun==\"2017\") & (ips[\"NAMA PROVINSI\"] == j))][\"BAHASA INDONESIA\"].values[0]\n",
    "            ids2['features'][i]['properties']['indoips18'] = ips[((ips.Tahun==\"2018\") & (ips[\"NAMA PROVINSI\"] == j))][\"BAHASA INDONESIA\"].values[0]\n",
    "            ids2['features'][i]['properties']['indoips19'] = ips[((ips.Tahun==\"2019\") & (ips[\"NAMA PROVINSI\"] == j))][\"BAHASA INDONESIA\"].values[0]\n",
    "            \n",
    "            ids2['features'][i]['properties']['jumips15'] = ips[((ips.Tahun==\"2015\") & (ips[\"NAMA PROVINSI\"] == j))][\"JUMLAH PESERTA\"].values[0]\n",
    "            ids2['features'][i]['properties']['jumips16'] = ips[((ips.Tahun==\"2016\") & (ips[\"NAMA PROVINSI\"] == j))][\"JUMLAH PESERTA\"].values[0]\n",
    "            ids2['features'][i]['properties']['jumips17'] = ips[((ips.Tahun==\"2017\") & (ips[\"NAMA PROVINSI\"] == j))][\"JUMLAH PESERTA\"].values[0]\n",
    "            ids2['features'][i]['properties']['jumips18'] = ips[((ips.Tahun==\"2018\") & (ips[\"NAMA PROVINSI\"] == j))][\"JUMLAH PESERTA\"].values[0]\n",
    "            ids2['features'][i]['properties']['jumips19'] = ips[((ips.Tahun==\"2019\") & (ips[\"NAMA PROVINSI\"] == j))][\"JUMLAH PESERTA\"].values[0]\n",
    "            \n",
    "            ids2['features'][i]['properties']['jspips15'] = ips[((ips.Tahun==\"2015\") & (ips[\"NAMA PROVINSI\"] == j))][\"JUMLAH SATUAN PENDIDIKAN\"].values[0]\n",
    "            ids2['features'][i]['properties']['jspips16'] = ips[((ips.Tahun==\"2016\") & (ips[\"NAMA PROVINSI\"] == j))][\"JUMLAH SATUAN PENDIDIKAN\"].values[0]\n",
    "            ids2['features'][i]['properties']['jspips17'] = ips[((ips.Tahun==\"2017\") & (ips[\"NAMA PROVINSI\"] == j))][\"JUMLAH SATUAN PENDIDIKAN\"].values[0]\n",
    "            ids2['features'][i]['properties']['jspips18'] = ips[((ips.Tahun==\"2018\") & (ips[\"NAMA PROVINSI\"] == j))][\"JUMLAH SATUAN PENDIDIKAN\"].values[0]\n",
    "            ids2['features'][i]['properties']['jspips19'] = ips[((ips.Tahun==\"2019\") & (ips[\"NAMA PROVINSI\"] == j))][\"JUMLAH SATUAN PENDIDIKAN\"].values[0]\n",
    "            "
   ]
  },
  {
   "cell_type": "code",
   "execution_count": null,
   "metadata": {},
   "outputs": [],
   "source": []
  },
  {
   "cell_type": "code",
   "execution_count": null,
   "metadata": {},
   "outputs": [],
   "source": []
  },
  {
   "cell_type": "code",
   "execution_count": null,
   "metadata": {},
   "outputs": [],
   "source": []
  },
  {
   "cell_type": "code",
   "execution_count": 48,
   "metadata": {},
   "outputs": [],
   "source": []
  },
  {
   "cell_type": "code",
   "execution_count": 51,
   "metadata": {},
   "outputs": [
    {
     "data": {
      "text/plain": [
       "dict_keys(['2015-08-07', '2015-08-23', '2017-03-28'])"
      ]
     },
     "execution_count": 51,
     "metadata": {},
     "output_type": "execute_result"
    }
   ],
   "source": [
    "data['type_a'].keys()"
   ]
  },
  {
   "cell_type": "code",
   "execution_count": 82,
   "metadata": {},
   "outputs": [],
   "source": [
    "df = pd.DataFrame.from_dict({(i, j): data[i][j] for i in data.keys() for j in data[i].keys()}, orient='index')\n"
   ]
  },
  {
   "cell_type": "code",
   "execution_count": 73,
   "metadata": {},
   "outputs": [
    {
     "ename": "SyntaxError",
     "evalue": "EOL while scanning string literal (<ipython-input-73-47b01b8cbe3b>, line 1)",
     "output_type": "error",
     "traceback": [
      "\u001b[1;36m  File \u001b[1;32m\"<ipython-input-73-47b01b8cbe3b>\"\u001b[1;36m, line \u001b[1;32m1\u001b[0m\n\u001b[1;33m    df = pd.DataFrame.from_dict({(i) :  id_states['features'][i] for i in range(10)},orient='index)\u001b[0m\n\u001b[1;37m                                                                                                   ^\u001b[0m\n\u001b[1;31mSyntaxError\u001b[0m\u001b[1;31m:\u001b[0m EOL while scanning string literal\n"
     ]
    }
   ],
   "source": [
    "df = pd.DataFrame.from_dict({(i) :  id_states['features'][i] for i in range(10)},orient='index)"
   ]
  },
  {
   "cell_type": "code",
   "execution_count": null,
   "metadata": {},
   "outputs": [],
   "source": []
  },
  {
   "cell_type": "code",
   "execution_count": 271,
   "metadata": {
    "scrolled": true
   },
   "outputs": [
    {
     "name": "stdout",
     "output_type": "stream",
     "text": [
      "ACEH\n",
      "KALIMANTAN UTARA\n",
      "SUMATERA BARAT\n",
      "DI YOGYAKARTA\n",
      "SUMATERA UTARA\n",
      "BANGKA-BELITUNG\n",
      "IRIAN JAYA BARAT\n",
      "JAWA TIMUR\n",
      "KALIMANTAN BARAT\n",
      "KALIMANTAN SELATAN\n",
      "KALIMANTAN TIMUR\n",
      "KEPULAUAN RIAU\n",
      "LAMPUNG\n",
      "MALUKU\n",
      "MALUKU UTARA\n",
      "NUSA TENGGARA BARAT\n",
      "NUSA TENGGARA TIMUR\n",
      "PAPUA\n",
      "RIAU\n",
      "SULAWESI SELATAN\n",
      "BENGKULU\n",
      "SULAWESI TENGAH\n",
      "SULAWESI UTARA\n",
      "SULAWESI TENGGARA\n",
      "BALI\n",
      "BANTEN\n",
      "GORONTALO\n",
      "DKI JAKARTA\n",
      "JAMBI\n",
      "JAWA BARAT\n",
      "JAWA TENGAH\n",
      "KALIMANTAN TENGAH\n",
      "SULAWESI BARAT\n",
      "SUMATERA SELATAN\n"
     ]
    }
   ],
   "source": []
  },
  {
   "cell_type": "code",
   "execution_count": 232,
   "metadata": {},
   "outputs": [],
   "source": [
    "with open('ids2.js') as f:\n",
    "  ids2 = json.load(f)"
   ]
  },
  {
   "cell_type": "code",
   "execution_count": 267,
   "metadata": {},
   "outputs": [],
   "source": []
  },
  {
   "cell_type": "code",
   "execution_count": 273,
   "metadata": {
    "scrolled": false
   },
   "outputs": [
    {
     "ename": "NameError",
     "evalue": "name 'ips' is not defined",
     "output_type": "error",
     "traceback": [
      "\u001b[1;31m---------------------------------------------------------------------------\u001b[0m",
      "\u001b[1;31mNameError\u001b[0m                                 Traceback (most recent call last)",
      "\u001b[1;32m<ipython-input-273-337f75bfaf2a>\u001b[0m in \u001b[0;36m<module>\u001b[1;34m\u001b[0m\n\u001b[1;32m----> 1\u001b[1;33m \u001b[0mips\u001b[0m\u001b[1;33m\u001b[0m\u001b[1;33m\u001b[0m\u001b[0m\n\u001b[0m",
      "\u001b[1;31mNameError\u001b[0m: name 'ips' is not defined"
     ]
    }
   ],
   "source": []
  },
  {
   "cell_type": "code",
   "execution_count": 253,
   "metadata": {},
   "outputs": [
    {
     "data": {
      "text/plain": [
       "70.57"
      ]
     },
     "execution_count": 253,
     "metadata": {},
     "output_type": "execute_result"
    }
   ],
   "source": [
    "ipa[((ipa.Tahun==\"2015\") & (ipa[\"NAMA PROVINSI\"] == \"ACEH\"))].KIMIA.values[0]"
   ]
  },
  {
   "cell_type": "code",
   "execution_count": 257,
   "metadata": {},
   "outputs": [
    {
     "data": {
      "text/plain": [
       "69.13"
      ]
     },
     "execution_count": 257,
     "metadata": {},
     "output_type": "execute_result"
    }
   ],
   "source": [
    "ipa[((ipa.Tahun==\"2015\") & (ipa[\"NAMA PROVINSI\"] == \"ACEH\"))][\"RERATA NILAI\"].values[0]"
   ]
  },
  {
   "cell_type": "code",
   "execution_count": 119,
   "metadata": {},
   "outputs": [
    {
     "data": {
      "text/plain": [
       "{'cartodb_id': 16,\n",
       " 'country': 'Indonesia',\n",
       " 'id_1': 1,\n",
       " 'state': 'Aceh',\n",
       " 'name': 'Special Region of Aceh',\n",
       " 'key': 'indonesia-aceh',\n",
       " 'slug': 'special-region-of-aceh'}"
      ]
     },
     "execution_count": 119,
     "metadata": {},
     "output_type": "execute_result"
    }
   ],
   "source": []
  },
  {
   "cell_type": "code",
   "execution_count": 120,
   "metadata": {},
   "outputs": [
    {
     "data": {
      "text/plain": [
       "{'cartodb_id': 16,\n",
       " 'country': 'Indonesia',\n",
       " 'id_1': 1,\n",
       " 'state': 'Aceh',\n",
       " 'name': 'Special Region of Aceh',\n",
       " 'key': 'indonesia-aceh',\n",
       " 'slug': 'special-region-of-aceh'}"
      ]
     },
     "execution_count": 120,
     "metadata": {},
     "output_type": "execute_result"
    }
   ],
   "source": [
    "ids[0]['properties']"
   ]
  },
  {
   "cell_type": "code",
   "execution_count": null,
   "metadata": {},
   "outputs": [],
   "source": []
  }
 ],
 "metadata": {
  "kernelspec": {
   "display_name": "Python 3",
   "language": "python",
   "name": "python3"
  },
  "language_info": {
   "codemirror_mode": {
    "name": "ipython",
    "version": 3
   },
   "file_extension": ".py",
   "mimetype": "text/x-python",
   "name": "python",
   "nbconvert_exporter": "python",
   "pygments_lexer": "ipython3",
   "version": "3.7.3"
  }
 },
 "nbformat": 4,
 "nbformat_minor": 2
}
